{
 "cells": [
  {
   "cell_type": "markdown",
   "id": "ecc92b0f",
   "metadata": {},
   "source": [
    "# Example script demonstrating the portfolio optimization and backtesting system.\n",
    "\n",
    "This script shows how to:\n",
    "1. Load data from CSV files\n",
    "2. Create and configure optimization strategies\n",
    "3. Run backtests\n",
    "4. Compare strategy performance\n",
    "5. Generate reports and visualizations"
   ]
  },
  {
   "cell_type": "code",
   "execution_count": 2,
   "id": "f246996c",
   "metadata": {},
   "outputs": [
    {
     "name": "stdout",
     "output_type": "stream",
     "text": [
      "The autoreload extension is already loaded. To reload it, use:\n",
      "  %reload_ext autoreload\n"
     ]
    }
   ],
   "source": [
    "%load_ext autoreload\n",
    "%autoreload 2\n",
    "import pandas as pd\n",
    "import numpy as np\n",
    "from datetime import datetime\n",
    "import tempfile\n",
    "import os\n",
    "from pathlib import Path\n",
    "\n",
    "# Import our modules\n",
    "from optfolio.data.loader import DataLoader\n",
    "from optfolio.data.validator import DataValidator\n",
    "from optfolio.backtesting.engine import Backtester\n",
    "from optfolio.strategies.base import StrategyFactory"
   ]
  },
  {
   "cell_type": "code",
   "execution_count": 3,
   "id": "f95ecb66",
   "metadata": {},
   "outputs": [
    {
     "name": "stdout",
     "output_type": "stream",
     "text": [
      "\n",
      "1. Loading and validating data...\n",
      "   Loaded 27 tickers\n",
      "Index(['AMAT', 'GE', 'AIG', 'PH', 'MCK', 'LLY', 'CTAS', 'RJF', 'WMT', 'PAYX',\n",
      "       'BK', 'TT', 'AVGO', 'BMI', 'NEE', 'WSM', 'MSI', 'TJX', 'TRGP', 'ADI',\n",
      "       'V', 'JPM', 'INTU', 'NDAQ', 'KLAC', 'SHW', 'COST'],\n",
      "      dtype='object')\n",
      "   Date range: 2015-09-02 00:00:00 to 2025-09-01 00:00:00\n",
      "   Total observations: 2513\n",
      "   Data quality score: 1.000\n",
      "   Warnings: 1\n"
     ]
    }
   ],
   "source": [
    "data_dir = \"../data/price\"\n",
    "\n",
    "# Step 2: Load and validate data\n",
    "print(\"\\n1. Loading and validating data...\")\n",
    "data_loader = DataLoader(data_dir)\n",
    "sectors = [\n",
    "        \"XLE\", \"XLF\", \"XLU\", \"XLI\", \"GDX\", \"XLK\", \"XLV\", \"XLY\", \"XLP\", \"XLB\",\n",
    "        \"XOP\", \"IYR\", \"XHB\", \"ITB\", \"VNQ\", \"GDXJ\", \"IYE\", \"OIH\", \"XME\", \"XRT\",\n",
    "        \"SMH\", \"IBB\", \"KBE\", \"KRE\", \"XTL\"\n",
    "    ]\n",
    "sectors = ['WSM', 'PAYX', 'BMI', 'BK', 'NDAQ', 'MSI', 'WMT', 'TJX', 'AIG', 'RJF', 'V', 'CTAS', 'TT', 'TRGP', 'JPM', 'GE', 'MCK', 'PH', 'LLY', 'COST', 'AVGO', 'NEE', 'AMAT', 'ADI', 'SHW', 'INTU', 'KLAC']\n",
    "# Load all available data\n",
    "prices = data_loader.load_prices(tickers=sectors)\n",
    "returns = data_loader.get_returns()\n",
    "\n",
    "print(f\"   Loaded {len(prices.columns)} tickers\")\n",
    "print(prices.columns)\n",
    "print(f\"   Date range: {prices.index.min()} to {prices.index.max()}\")\n",
    "print(f\"   Total observations: {len(prices)}\")\n",
    "\n",
    "# Validate data\n",
    "validator = DataValidator()\n",
    "price_issues = validator.validate_price_data(prices)\n",
    "returns_issues = validator.validate_returns_data(returns)\n",
    "\n",
    "print(f\"   Data quality score: {validator.get_data_quality_score(prices):.3f}\")\n",
    "\n",
    "if price_issues['warnings']:\n",
    "    print(f\"   Warnings: {len(price_issues['warnings'])}\")\n",
    "if price_issues['errors']:\n",
    "    print(f\"   Errors: {len(price_issues['errors'])}\")"
   ]
  },
  {
   "cell_type": "code",
   "execution_count": 4,
   "id": "fa66bf74",
   "metadata": {},
   "outputs": [
    {
     "name": "stdout",
     "output_type": "stream",
     "text": [
      "\n",
      "2. Creating optimization strategies...\n",
      "   Created: Equal Weight Strategy (Equal Weight)\n",
      "   Created: Mean-Variance (Sortino) Strategy (sortino_ratio)\n",
      "   Created: Mean-Variance (Sharpe) Strategy (sharpe_ratio)\n",
      "   Created: Random Weight Strategy (dirichlet)\n",
      "   Created: Black-Litterman Strategy (market_cap priors, upside views)\n"
     ]
    }
   ],
   "source": [
    "print(\"\\n2. Creating optimization strategies...\")\n",
    "\n",
    "strategies = [\n",
    "    StrategyFactory.create('equal_weight'),\n",
    "    StrategyFactory.create('mean_variance', objective=\"sortino_ratio\"),\n",
    "    StrategyFactory.create('mean_variance', objective=\"sharpe_ratio\"),\n",
    "    StrategyFactory.create('random_weight', distribution=\"dirichlet\", seed=42),\n",
    "    StrategyFactory.create('black_litterman', \n",
    "                                    prior_method=\"market_cap\",  # Use market cap weighted priors\n",
    "                                    view_method=\"upside\") \n",
    "]\n",
    "\n",
    "strategy_names = [\"Equal Weight\", \"Mean-Variance (Sortino)\", \"Mean-Variance (Sharpe)\", \"Random Weight\", \"Black-Litterman\"]\n",
    "for i, strategy in enumerate(strategies):\n",
    "    strategy.name = strategy_names[i]\n",
    "    print(f\"   Created: {strategy}\")"
   ]
  },
  {
   "cell_type": "code",
   "execution_count": 5,
   "id": "3452b972",
   "metadata": {},
   "outputs": [
    {
     "name": "stdout",
     "output_type": "stream",
     "text": [
      "\n",
      "3. Setting up backtesting...\n",
      "Loaded data for 27 tickers\n",
      "Date range: 2015-09-02 00:00:00 to 2025-09-01 00:00:00\n",
      "Total observations: 2513\n"
     ]
    }
   ],
   "source": [
    "# Step 4: Set up backtesting\n",
    "print(\"\\n3. Setting up backtesting...\")\n",
    "\n",
    "backtester = Backtester(\n",
    "    initial_capital=100000.0,\n",
    "    risk_free_rate=0.03,\n",
    "    transaction_costs=0.001\n",
    ")\n",
    "\n",
    "# Load data into backtester\n",
    "backtester.load_data(data_loader, tickers=sectors)"
   ]
  },
  {
   "cell_type": "code",
   "execution_count": null,
   "id": "f3a9c66c",
   "metadata": {},
   "outputs": [],
   "source": []
  }
 ],
 "metadata": {
  "kernelspec": {
   "display_name": ".venv",
   "language": "python",
   "name": "python3"
  },
  "language_info": {
   "codemirror_mode": {
    "name": "ipython",
    "version": 3
   },
   "file_extension": ".py",
   "mimetype": "text/x-python",
   "name": "python",
   "nbconvert_exporter": "python",
   "pygments_lexer": "ipython3",
   "version": "3.12.8"
  }
 },
 "nbformat": 4,
 "nbformat_minor": 5
}
